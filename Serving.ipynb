{
 "cells": [
  {
   "cell_type": "markdown",
   "id": "2c54f49a",
   "metadata": {},
   "source": [
    "## Serving a TensorFlow Model"
   ]
  },
  {
   "cell_type": "code",
   "execution_count": 1,
   "id": "d966c672",
   "metadata": {},
   "outputs": [],
   "source": [
    "from pathlib import Path\n",
    "import tensorflow as tf"
   ]
  },
  {
   "cell_type": "code",
   "execution_count": 2,
   "id": "2700ba59",
   "metadata": {},
   "outputs": [],
   "source": [
    "mnist = tf.keras.datasets.mnist.load_data()"
   ]
  },
  {
   "cell_type": "code",
   "execution_count": 3,
   "id": "38e2747f",
   "metadata": {},
   "outputs": [],
   "source": [
    "(X_train_full, y_train_full), (X_test, y_test) = mnist"
   ]
  },
  {
   "cell_type": "code",
   "execution_count": 4,
   "id": "654124f2",
   "metadata": {},
   "outputs": [],
   "source": [
    "X_valid, X_train = X_train_full[:5000], X_train_full[5000:]\n",
    "y_valid, y_train = y_train_full[:5000], y_train_full[5000:]"
   ]
  },
  {
   "cell_type": "code",
   "execution_count": 5,
   "id": "1be0cca7",
   "metadata": {},
   "outputs": [],
   "source": [
    "tf.random.set_seed(42)\n",
    "tf.keras.backend.clear_session()"
   ]
  },
  {
   "cell_type": "code",
   "execution_count": 6,
   "id": "400568dd",
   "metadata": {},
   "outputs": [],
   "source": [
    "model = tf.keras.Sequential([\n",
    "    tf.keras.layers.Flatten(input_shape=[28, 28], dtype=tf.uint8),\n",
    "    tf.keras.layers.Rescaling(scale=1/255),\n",
    "    tf.keras.layers.Dense(100, activation=\"relu\"),\n",
    "    tf.keras.layers.Dense(10, activation=\"softmax\")\n",
    "])"
   ]
  },
  {
   "cell_type": "code",
   "execution_count": 7,
   "id": "84cceee3",
   "metadata": {},
   "outputs": [
    {
     "name": "stdout",
     "output_type": "stream",
     "text": [
      "Model: \"sequential\"\n",
      "_________________________________________________________________\n",
      " Layer (type)                Output Shape              Param #   \n",
      "=================================================================\n",
      " flatten (Flatten)           (None, 784)               0         \n",
      "                                                                 \n",
      " rescaling (Rescaling)       (None, 784)               0         \n",
      "                                                                 \n",
      " dense (Dense)               (None, 100)               78500     \n",
      "                                                                 \n",
      " dense_1 (Dense)             (None, 10)                1010      \n",
      "                                                                 \n",
      "=================================================================\n",
      "Total params: 79,510\n",
      "Trainable params: 79,510\n",
      "Non-trainable params: 0\n",
      "_________________________________________________________________\n"
     ]
    }
   ],
   "source": [
    "model.summary()"
   ]
  },
  {
   "cell_type": "code",
   "execution_count": 8,
   "id": "fa87f7b2",
   "metadata": {},
   "outputs": [],
   "source": [
    "model.compile(loss=\"sparse_categorical_crossentropy\", \n",
    "              optimizer=tf.keras.optimizers.SGD(learning_rate=1e-2),\n",
    "              metrics=[\"accuracy\"])"
   ]
  },
  {
   "cell_type": "code",
   "execution_count": 17,
   "id": "9fd4f6ae",
   "metadata": {},
   "outputs": [
    {
     "name": "stdout",
     "output_type": "stream",
     "text": [
      "Epoch 1/10\n"
     ]
    },
    {
     "ename": "InternalError",
     "evalue": "Graph execution error:\n\nDetected at node 'sequential_1/dense/MatMul' defined at (most recent call last):\n    File \"C:\\Users\\a.seong\\Anaconda3\\envs\\p39_tfgpu210_cuda112\\lib\\runpy.py\", line 197, in _run_module_as_main\n      return _run_code(code, main_globals, None,\n    File \"C:\\Users\\a.seong\\Anaconda3\\envs\\p39_tfgpu210_cuda112\\lib\\runpy.py\", line 87, in _run_code\n      exec(code, run_globals)\n    File \"C:\\Users\\a.seong\\Anaconda3\\envs\\p39_tfgpu210_cuda112\\lib\\site-packages\\ipykernel_launcher.py\", line 18, in <module>\n      app.launch_new_instance()\n    File \"C:\\Users\\a.seong\\Anaconda3\\envs\\p39_tfgpu210_cuda112\\lib\\site-packages\\traitlets\\config\\application.py\", line 1075, in launch_instance\n      app.start()\n    File \"C:\\Users\\a.seong\\Anaconda3\\envs\\p39_tfgpu210_cuda112\\lib\\site-packages\\ipykernel\\kernelapp.py\", line 739, in start\n      self.io_loop.start()\n    File \"C:\\Users\\a.seong\\Anaconda3\\envs\\p39_tfgpu210_cuda112\\lib\\site-packages\\tornado\\platform\\asyncio.py\", line 205, in start\n      self.asyncio_loop.run_forever()\n    File \"C:\\Users\\a.seong\\Anaconda3\\envs\\p39_tfgpu210_cuda112\\lib\\asyncio\\base_events.py\", line 601, in run_forever\n      self._run_once()\n    File \"C:\\Users\\a.seong\\Anaconda3\\envs\\p39_tfgpu210_cuda112\\lib\\asyncio\\base_events.py\", line 1905, in _run_once\n      handle._run()\n    File \"C:\\Users\\a.seong\\Anaconda3\\envs\\p39_tfgpu210_cuda112\\lib\\asyncio\\events.py\", line 80, in _run\n      self._context.run(self._callback, *self._args)\n    File \"C:\\Users\\a.seong\\Anaconda3\\envs\\p39_tfgpu210_cuda112\\lib\\site-packages\\ipykernel\\kernelbase.py\", line 545, in dispatch_queue\n      await self.process_one()\n    File \"C:\\Users\\a.seong\\Anaconda3\\envs\\p39_tfgpu210_cuda112\\lib\\site-packages\\ipykernel\\kernelbase.py\", line 534, in process_one\n      await dispatch(*args)\n    File \"C:\\Users\\a.seong\\Anaconda3\\envs\\p39_tfgpu210_cuda112\\lib\\site-packages\\ipykernel\\kernelbase.py\", line 437, in dispatch_shell\n      await result\n    File \"C:\\Users\\a.seong\\Anaconda3\\envs\\p39_tfgpu210_cuda112\\lib\\site-packages\\ipykernel\\ipkernel.py\", line 362, in execute_request\n      await super().execute_request(stream, ident, parent)\n    File \"C:\\Users\\a.seong\\Anaconda3\\envs\\p39_tfgpu210_cuda112\\lib\\site-packages\\ipykernel\\kernelbase.py\", line 778, in execute_request\n      reply_content = await reply_content\n    File \"C:\\Users\\a.seong\\Anaconda3\\envs\\p39_tfgpu210_cuda112\\lib\\site-packages\\ipykernel\\ipkernel.py\", line 449, in do_execute\n      res = shell.run_cell(\n    File \"C:\\Users\\a.seong\\Anaconda3\\envs\\p39_tfgpu210_cuda112\\lib\\site-packages\\ipykernel\\zmqshell.py\", line 549, in run_cell\n      return super().run_cell(*args, **kwargs)\n    File \"C:\\Users\\a.seong\\Anaconda3\\envs\\p39_tfgpu210_cuda112\\lib\\site-packages\\IPython\\core\\interactiveshell.py\", line 3048, in run_cell\n      result = self._run_cell(\n    File \"C:\\Users\\a.seong\\Anaconda3\\envs\\p39_tfgpu210_cuda112\\lib\\site-packages\\IPython\\core\\interactiveshell.py\", line 3103, in _run_cell\n      result = runner(coro)\n    File \"C:\\Users\\a.seong\\Anaconda3\\envs\\p39_tfgpu210_cuda112\\lib\\site-packages\\IPython\\core\\async_helpers.py\", line 129, in _pseudo_sync_runner\n      coro.send(None)\n    File \"C:\\Users\\a.seong\\Anaconda3\\envs\\p39_tfgpu210_cuda112\\lib\\site-packages\\IPython\\core\\interactiveshell.py\", line 3308, in run_cell_async\n      has_raised = await self.run_ast_nodes(code_ast.body, cell_name,\n    File \"C:\\Users\\a.seong\\Anaconda3\\envs\\p39_tfgpu210_cuda112\\lib\\site-packages\\IPython\\core\\interactiveshell.py\", line 3490, in run_ast_nodes\n      if await self.run_code(code, result, async_=asy):\n    File \"C:\\Users\\a.seong\\Anaconda3\\envs\\p39_tfgpu210_cuda112\\lib\\site-packages\\IPython\\core\\interactiveshell.py\", line 3550, in run_code\n      exec(code_obj, self.user_global_ns, self.user_ns)\n    File \"C:\\Users\\a.seong\\AppData\\Local\\Temp\\ipykernel_4904\\1996296867.py\", line 1, in <module>\n      model.fit(X_train, y_train, epochs=10, validation_data=(X_valid, y_valid))\n    File \"C:\\Users\\a.seong\\Anaconda3\\envs\\p39_tfgpu210_cuda112\\lib\\site-packages\\keras\\utils\\traceback_utils.py\", line 65, in error_handler\n      return fn(*args, **kwargs)\n    File \"C:\\Users\\a.seong\\Anaconda3\\envs\\p39_tfgpu210_cuda112\\lib\\site-packages\\keras\\engine\\training.py\", line 1564, in fit\n      tmp_logs = self.train_function(iterator)\n    File \"C:\\Users\\a.seong\\Anaconda3\\envs\\p39_tfgpu210_cuda112\\lib\\site-packages\\keras\\engine\\training.py\", line 1160, in train_function\n      return step_function(self, iterator)\n    File \"C:\\Users\\a.seong\\Anaconda3\\envs\\p39_tfgpu210_cuda112\\lib\\site-packages\\keras\\engine\\training.py\", line 1146, in step_function\n      outputs = model.distribute_strategy.run(run_step, args=(data,))\n    File \"C:\\Users\\a.seong\\Anaconda3\\envs\\p39_tfgpu210_cuda112\\lib\\site-packages\\keras\\engine\\training.py\", line 1135, in run_step\n      outputs = model.train_step(data)\n    File \"C:\\Users\\a.seong\\Anaconda3\\envs\\p39_tfgpu210_cuda112\\lib\\site-packages\\keras\\engine\\training.py\", line 993, in train_step\n      y_pred = self(x, training=True)\n    File \"C:\\Users\\a.seong\\Anaconda3\\envs\\p39_tfgpu210_cuda112\\lib\\site-packages\\keras\\utils\\traceback_utils.py\", line 65, in error_handler\n      return fn(*args, **kwargs)\n    File \"C:\\Users\\a.seong\\Anaconda3\\envs\\p39_tfgpu210_cuda112\\lib\\site-packages\\keras\\engine\\training.py\", line 557, in __call__\n      return super().__call__(*args, **kwargs)\n    File \"C:\\Users\\a.seong\\Anaconda3\\envs\\p39_tfgpu210_cuda112\\lib\\site-packages\\keras\\utils\\traceback_utils.py\", line 65, in error_handler\n      return fn(*args, **kwargs)\n    File \"C:\\Users\\a.seong\\Anaconda3\\envs\\p39_tfgpu210_cuda112\\lib\\site-packages\\keras\\engine\\base_layer.py\", line 1097, in __call__\n      outputs = call_fn(inputs, *args, **kwargs)\n    File \"C:\\Users\\a.seong\\Anaconda3\\envs\\p39_tfgpu210_cuda112\\lib\\site-packages\\keras\\utils\\traceback_utils.py\", line 96, in error_handler\n      return fn(*args, **kwargs)\n    File \"C:\\Users\\a.seong\\Anaconda3\\envs\\p39_tfgpu210_cuda112\\lib\\site-packages\\keras\\engine\\sequential.py\", line 410, in call\n      return super().call(inputs, training=training, mask=mask)\n    File \"C:\\Users\\a.seong\\Anaconda3\\envs\\p39_tfgpu210_cuda112\\lib\\site-packages\\keras\\engine\\functional.py\", line 510, in call\n      return self._run_internal_graph(inputs, training=training, mask=mask)\n    File \"C:\\Users\\a.seong\\Anaconda3\\envs\\p39_tfgpu210_cuda112\\lib\\site-packages\\keras\\engine\\functional.py\", line 667, in _run_internal_graph\n      outputs = node.layer(*args, **kwargs)\n    File \"C:\\Users\\a.seong\\Anaconda3\\envs\\p39_tfgpu210_cuda112\\lib\\site-packages\\keras\\utils\\traceback_utils.py\", line 65, in error_handler\n      return fn(*args, **kwargs)\n    File \"C:\\Users\\a.seong\\Anaconda3\\envs\\p39_tfgpu210_cuda112\\lib\\site-packages\\keras\\engine\\base_layer.py\", line 1097, in __call__\n      outputs = call_fn(inputs, *args, **kwargs)\n    File \"C:\\Users\\a.seong\\Anaconda3\\envs\\p39_tfgpu210_cuda112\\lib\\site-packages\\keras\\utils\\traceback_utils.py\", line 96, in error_handler\n      return fn(*args, **kwargs)\n    File \"C:\\Users\\a.seong\\Anaconda3\\envs\\p39_tfgpu210_cuda112\\lib\\site-packages\\keras\\layers\\core\\dense.py\", line 241, in call\n      outputs = tf.matmul(a=inputs, b=self.kernel)\nNode: 'sequential_1/dense/MatMul'\nAttempting to perform BLAS operation using StreamExecutor without BLAS support\n\t [[{{node sequential_1/dense/MatMul}}]] [Op:__inference_train_function_523]",
     "output_type": "error",
     "traceback": [
      "\u001b[1;31m---------------------------------------------------------------------------\u001b[0m",
      "\u001b[1;31mInternalError\u001b[0m                             Traceback (most recent call last)",
      "Cell \u001b[1;32mIn[17], line 1\u001b[0m\n\u001b[1;32m----> 1\u001b[0m \u001b[43mmodel\u001b[49m\u001b[38;5;241;43m.\u001b[39;49m\u001b[43mfit\u001b[49m\u001b[43m(\u001b[49m\u001b[43mX_train\u001b[49m\u001b[43m,\u001b[49m\u001b[43m \u001b[49m\u001b[43my_train\u001b[49m\u001b[43m,\u001b[49m\u001b[43m \u001b[49m\u001b[43mepochs\u001b[49m\u001b[38;5;241;43m=\u001b[39;49m\u001b[38;5;241;43m10\u001b[39;49m\u001b[43m,\u001b[49m\u001b[43m \u001b[49m\u001b[43mvalidation_data\u001b[49m\u001b[38;5;241;43m=\u001b[39;49m\u001b[43m(\u001b[49m\u001b[43mX_valid\u001b[49m\u001b[43m,\u001b[49m\u001b[43m \u001b[49m\u001b[43my_valid\u001b[49m\u001b[43m)\u001b[49m\u001b[43m)\u001b[49m\n",
      "File \u001b[1;32m~\\Anaconda3\\envs\\p39_tfgpu210_cuda112\\lib\\site-packages\\keras\\utils\\traceback_utils.py:70\u001b[0m, in \u001b[0;36mfilter_traceback.<locals>.error_handler\u001b[1;34m(*args, **kwargs)\u001b[0m\n\u001b[0;32m     67\u001b[0m     filtered_tb \u001b[38;5;241m=\u001b[39m _process_traceback_frames(e\u001b[38;5;241m.\u001b[39m__traceback__)\n\u001b[0;32m     68\u001b[0m     \u001b[38;5;66;03m# To get the full stack trace, call:\u001b[39;00m\n\u001b[0;32m     69\u001b[0m     \u001b[38;5;66;03m# `tf.debugging.disable_traceback_filtering()`\u001b[39;00m\n\u001b[1;32m---> 70\u001b[0m     \u001b[38;5;28;01mraise\u001b[39;00m e\u001b[38;5;241m.\u001b[39mwith_traceback(filtered_tb) \u001b[38;5;28;01mfrom\u001b[39;00m \u001b[38;5;28;01mNone\u001b[39;00m\n\u001b[0;32m     71\u001b[0m \u001b[38;5;28;01mfinally\u001b[39;00m:\n\u001b[0;32m     72\u001b[0m     \u001b[38;5;28;01mdel\u001b[39;00m filtered_tb\n",
      "File \u001b[1;32m~\\Anaconda3\\envs\\p39_tfgpu210_cuda112\\lib\\site-packages\\tensorflow\\python\\eager\\execute.py:54\u001b[0m, in \u001b[0;36mquick_execute\u001b[1;34m(op_name, num_outputs, inputs, attrs, ctx, name)\u001b[0m\n\u001b[0;32m     52\u001b[0m \u001b[38;5;28;01mtry\u001b[39;00m:\n\u001b[0;32m     53\u001b[0m   ctx\u001b[38;5;241m.\u001b[39mensure_initialized()\n\u001b[1;32m---> 54\u001b[0m   tensors \u001b[38;5;241m=\u001b[39m pywrap_tfe\u001b[38;5;241m.\u001b[39mTFE_Py_Execute(ctx\u001b[38;5;241m.\u001b[39m_handle, device_name, op_name,\n\u001b[0;32m     55\u001b[0m                                       inputs, attrs, num_outputs)\n\u001b[0;32m     56\u001b[0m \u001b[38;5;28;01mexcept\u001b[39;00m core\u001b[38;5;241m.\u001b[39m_NotOkStatusException \u001b[38;5;28;01mas\u001b[39;00m e:\n\u001b[0;32m     57\u001b[0m   \u001b[38;5;28;01mif\u001b[39;00m name \u001b[38;5;129;01mis\u001b[39;00m \u001b[38;5;129;01mnot\u001b[39;00m \u001b[38;5;28;01mNone\u001b[39;00m:\n",
      "\u001b[1;31mInternalError\u001b[0m: Graph execution error:\n\nDetected at node 'sequential_1/dense/MatMul' defined at (most recent call last):\n    File \"C:\\Users\\a.seong\\Anaconda3\\envs\\p39_tfgpu210_cuda112\\lib\\runpy.py\", line 197, in _run_module_as_main\n      return _run_code(code, main_globals, None,\n    File \"C:\\Users\\a.seong\\Anaconda3\\envs\\p39_tfgpu210_cuda112\\lib\\runpy.py\", line 87, in _run_code\n      exec(code, run_globals)\n    File \"C:\\Users\\a.seong\\Anaconda3\\envs\\p39_tfgpu210_cuda112\\lib\\site-packages\\ipykernel_launcher.py\", line 18, in <module>\n      app.launch_new_instance()\n    File \"C:\\Users\\a.seong\\Anaconda3\\envs\\p39_tfgpu210_cuda112\\lib\\site-packages\\traitlets\\config\\application.py\", line 1075, in launch_instance\n      app.start()\n    File \"C:\\Users\\a.seong\\Anaconda3\\envs\\p39_tfgpu210_cuda112\\lib\\site-packages\\ipykernel\\kernelapp.py\", line 739, in start\n      self.io_loop.start()\n    File \"C:\\Users\\a.seong\\Anaconda3\\envs\\p39_tfgpu210_cuda112\\lib\\site-packages\\tornado\\platform\\asyncio.py\", line 205, in start\n      self.asyncio_loop.run_forever()\n    File \"C:\\Users\\a.seong\\Anaconda3\\envs\\p39_tfgpu210_cuda112\\lib\\asyncio\\base_events.py\", line 601, in run_forever\n      self._run_once()\n    File \"C:\\Users\\a.seong\\Anaconda3\\envs\\p39_tfgpu210_cuda112\\lib\\asyncio\\base_events.py\", line 1905, in _run_once\n      handle._run()\n    File \"C:\\Users\\a.seong\\Anaconda3\\envs\\p39_tfgpu210_cuda112\\lib\\asyncio\\events.py\", line 80, in _run\n      self._context.run(self._callback, *self._args)\n    File \"C:\\Users\\a.seong\\Anaconda3\\envs\\p39_tfgpu210_cuda112\\lib\\site-packages\\ipykernel\\kernelbase.py\", line 545, in dispatch_queue\n      await self.process_one()\n    File \"C:\\Users\\a.seong\\Anaconda3\\envs\\p39_tfgpu210_cuda112\\lib\\site-packages\\ipykernel\\kernelbase.py\", line 534, in process_one\n      await dispatch(*args)\n    File \"C:\\Users\\a.seong\\Anaconda3\\envs\\p39_tfgpu210_cuda112\\lib\\site-packages\\ipykernel\\kernelbase.py\", line 437, in dispatch_shell\n      await result\n    File \"C:\\Users\\a.seong\\Anaconda3\\envs\\p39_tfgpu210_cuda112\\lib\\site-packages\\ipykernel\\ipkernel.py\", line 362, in execute_request\n      await super().execute_request(stream, ident, parent)\n    File \"C:\\Users\\a.seong\\Anaconda3\\envs\\p39_tfgpu210_cuda112\\lib\\site-packages\\ipykernel\\kernelbase.py\", line 778, in execute_request\n      reply_content = await reply_content\n    File \"C:\\Users\\a.seong\\Anaconda3\\envs\\p39_tfgpu210_cuda112\\lib\\site-packages\\ipykernel\\ipkernel.py\", line 449, in do_execute\n      res = shell.run_cell(\n    File \"C:\\Users\\a.seong\\Anaconda3\\envs\\p39_tfgpu210_cuda112\\lib\\site-packages\\ipykernel\\zmqshell.py\", line 549, in run_cell\n      return super().run_cell(*args, **kwargs)\n    File \"C:\\Users\\a.seong\\Anaconda3\\envs\\p39_tfgpu210_cuda112\\lib\\site-packages\\IPython\\core\\interactiveshell.py\", line 3048, in run_cell\n      result = self._run_cell(\n    File \"C:\\Users\\a.seong\\Anaconda3\\envs\\p39_tfgpu210_cuda112\\lib\\site-packages\\IPython\\core\\interactiveshell.py\", line 3103, in _run_cell\n      result = runner(coro)\n    File \"C:\\Users\\a.seong\\Anaconda3\\envs\\p39_tfgpu210_cuda112\\lib\\site-packages\\IPython\\core\\async_helpers.py\", line 129, in _pseudo_sync_runner\n      coro.send(None)\n    File \"C:\\Users\\a.seong\\Anaconda3\\envs\\p39_tfgpu210_cuda112\\lib\\site-packages\\IPython\\core\\interactiveshell.py\", line 3308, in run_cell_async\n      has_raised = await self.run_ast_nodes(code_ast.body, cell_name,\n    File \"C:\\Users\\a.seong\\Anaconda3\\envs\\p39_tfgpu210_cuda112\\lib\\site-packages\\IPython\\core\\interactiveshell.py\", line 3490, in run_ast_nodes\n      if await self.run_code(code, result, async_=asy):\n    File \"C:\\Users\\a.seong\\Anaconda3\\envs\\p39_tfgpu210_cuda112\\lib\\site-packages\\IPython\\core\\interactiveshell.py\", line 3550, in run_code\n      exec(code_obj, self.user_global_ns, self.user_ns)\n    File \"C:\\Users\\a.seong\\AppData\\Local\\Temp\\ipykernel_4904\\1996296867.py\", line 1, in <module>\n      model.fit(X_train, y_train, epochs=10, validation_data=(X_valid, y_valid))\n    File \"C:\\Users\\a.seong\\Anaconda3\\envs\\p39_tfgpu210_cuda112\\lib\\site-packages\\keras\\utils\\traceback_utils.py\", line 65, in error_handler\n      return fn(*args, **kwargs)\n    File \"C:\\Users\\a.seong\\Anaconda3\\envs\\p39_tfgpu210_cuda112\\lib\\site-packages\\keras\\engine\\training.py\", line 1564, in fit\n      tmp_logs = self.train_function(iterator)\n    File \"C:\\Users\\a.seong\\Anaconda3\\envs\\p39_tfgpu210_cuda112\\lib\\site-packages\\keras\\engine\\training.py\", line 1160, in train_function\n      return step_function(self, iterator)\n    File \"C:\\Users\\a.seong\\Anaconda3\\envs\\p39_tfgpu210_cuda112\\lib\\site-packages\\keras\\engine\\training.py\", line 1146, in step_function\n      outputs = model.distribute_strategy.run(run_step, args=(data,))\n    File \"C:\\Users\\a.seong\\Anaconda3\\envs\\p39_tfgpu210_cuda112\\lib\\site-packages\\keras\\engine\\training.py\", line 1135, in run_step\n      outputs = model.train_step(data)\n    File \"C:\\Users\\a.seong\\Anaconda3\\envs\\p39_tfgpu210_cuda112\\lib\\site-packages\\keras\\engine\\training.py\", line 993, in train_step\n      y_pred = self(x, training=True)\n    File \"C:\\Users\\a.seong\\Anaconda3\\envs\\p39_tfgpu210_cuda112\\lib\\site-packages\\keras\\utils\\traceback_utils.py\", line 65, in error_handler\n      return fn(*args, **kwargs)\n    File \"C:\\Users\\a.seong\\Anaconda3\\envs\\p39_tfgpu210_cuda112\\lib\\site-packages\\keras\\engine\\training.py\", line 557, in __call__\n      return super().__call__(*args, **kwargs)\n    File \"C:\\Users\\a.seong\\Anaconda3\\envs\\p39_tfgpu210_cuda112\\lib\\site-packages\\keras\\utils\\traceback_utils.py\", line 65, in error_handler\n      return fn(*args, **kwargs)\n    File \"C:\\Users\\a.seong\\Anaconda3\\envs\\p39_tfgpu210_cuda112\\lib\\site-packages\\keras\\engine\\base_layer.py\", line 1097, in __call__\n      outputs = call_fn(inputs, *args, **kwargs)\n    File \"C:\\Users\\a.seong\\Anaconda3\\envs\\p39_tfgpu210_cuda112\\lib\\site-packages\\keras\\utils\\traceback_utils.py\", line 96, in error_handler\n      return fn(*args, **kwargs)\n    File \"C:\\Users\\a.seong\\Anaconda3\\envs\\p39_tfgpu210_cuda112\\lib\\site-packages\\keras\\engine\\sequential.py\", line 410, in call\n      return super().call(inputs, training=training, mask=mask)\n    File \"C:\\Users\\a.seong\\Anaconda3\\envs\\p39_tfgpu210_cuda112\\lib\\site-packages\\keras\\engine\\functional.py\", line 510, in call\n      return self._run_internal_graph(inputs, training=training, mask=mask)\n    File \"C:\\Users\\a.seong\\Anaconda3\\envs\\p39_tfgpu210_cuda112\\lib\\site-packages\\keras\\engine\\functional.py\", line 667, in _run_internal_graph\n      outputs = node.layer(*args, **kwargs)\n    File \"C:\\Users\\a.seong\\Anaconda3\\envs\\p39_tfgpu210_cuda112\\lib\\site-packages\\keras\\utils\\traceback_utils.py\", line 65, in error_handler\n      return fn(*args, **kwargs)\n    File \"C:\\Users\\a.seong\\Anaconda3\\envs\\p39_tfgpu210_cuda112\\lib\\site-packages\\keras\\engine\\base_layer.py\", line 1097, in __call__\n      outputs = call_fn(inputs, *args, **kwargs)\n    File \"C:\\Users\\a.seong\\Anaconda3\\envs\\p39_tfgpu210_cuda112\\lib\\site-packages\\keras\\utils\\traceback_utils.py\", line 96, in error_handler\n      return fn(*args, **kwargs)\n    File \"C:\\Users\\a.seong\\Anaconda3\\envs\\p39_tfgpu210_cuda112\\lib\\site-packages\\keras\\layers\\core\\dense.py\", line 241, in call\n      outputs = tf.matmul(a=inputs, b=self.kernel)\nNode: 'sequential_1/dense/MatMul'\nAttempting to perform BLAS operation using StreamExecutor without BLAS support\n\t [[{{node sequential_1/dense/MatMul}}]] [Op:__inference_train_function_523]"
     ]
    }
   ],
   "source": [
    "model.fit(X_train, y_train, epochs=10, validation_data=(X_valid, y_valid))"
   ]
  },
  {
   "cell_type": "code",
   "execution_count": 19,
   "id": "66f20817",
   "metadata": {},
   "outputs": [],
   "source": [
    "from datetime import datetime, date\n",
    "import pandas as pd"
   ]
  },
  {
   "cell_type": "code",
   "execution_count": 20,
   "id": "48695eba",
   "metadata": {},
   "outputs": [],
   "source": [
    "df = pd.DataFrame({'NAME':['Alex', 'Johhny']})"
   ]
  },
  {
   "cell_type": "code",
   "execution_count": 29,
   "id": "2e28c9d5",
   "metadata": {},
   "outputs": [
    {
     "data": {
      "text/plain": [
       "('Alex', 'Johhny')"
      ]
     },
     "execution_count": 29,
     "metadata": {},
     "output_type": "execute_result"
    }
   ],
   "source": [
    "tuple(df['NAME'].values)"
   ]
  },
  {
   "cell_type": "code",
   "execution_count": 30,
   "id": "a1f95080",
   "metadata": {},
   "outputs": [],
   "source": [
    "env_lst = [\n",
    "    'PG_INV_DB=inventory_db',\n",
    "'PG_INV_HOST=105.53.200.15',\n",
    "'PG_INV_USER_NAME=inventory_mgmt',\n",
    "'PG_INV_PASSWORD=amsdi$01',\n",
    "'PG_DOWNTIME_DB=downtime_db',\n",
    "'PG_DOWNTIME_HOST=105.53.200.15',\n",
    "'PG_DOWNTIME_USER_NAME=downtime_mgmt',\n",
    "'PG_DOWNTIME_PASSWORD=amsdi$01',\n",
    "'RPT_EMAIL_SENDER=sdia.prod@samsung.com',\n",
    "'RPT_EMIL_PWD=Monday1!',\n",
    "'RPT_SMTP=smtp.samsung.net',\n",
    "'RPT_PORT=25',\n",
    "'REWORK_LOG_TABLE=tb_rework_logs',\n",
    "'ORA_MES_USER_NAME=packmesadmin',\n",
    "'ORA_MES_RPT_USER_NAME=packrptadmin',\n",
    "'ORA_MES_PASSWORD=ahebf001!',\n",
    "'ORA_MES_HOST=105.53.133.51',\n",
    "'ORA_MES_PORT=1523',\n",
    "'ORA_MES_SERVICE_NAME=aevpack',\n",
    "'TNS_MES_1=AEVPACK1',\n",
    "'TNS_MES_2=AEVPACK2',\n",
    "'ORA_OWMS_USER_NAME=xaowms',\n",
    "'ORA_OWMS_PASSWORD=realbts#00',\n",
    "'ORA_OWMS_HOST=105.53.140.240',\n",
    "'ORA_OWMS_PORT=1521',\n",
    "'ORA_OWMS_SERVICE_NAME=sdiabs',\n",
    "'RPT_EMAIL_SENDER=sdia.prod@samsung.com',\n",
    "'RPT_EMAIL_PWD=Monday1!',\n",
    "'RPT_SMTP=smtp.samsung.net',\n",
    "'RPT_PORT=25',\n",
    "'ESD_HOST=105.53.140.224',\n",
    "'ESD_USERID=esd',\n",
    "'ESD_PASSWD=hmi2**!',\n",
    "'ESD_DATABASE=ESD',\n",
    "'ESD_ODBC_DRV={ODBC Driver 17 for SQL Server}'\n",
    "]"
   ]
  },
  {
   "cell_type": "code",
   "execution_count": 32,
   "id": "44bac6d8",
   "metadata": {},
   "outputs": [
    {
     "name": "stdout",
     "output_type": "stream",
     "text": [
      "st.write(config('PG_INV_DB'))\n",
      "st.write(config('PG_INV_HOST'))\n",
      "st.write(config('PG_INV_USER_NAME'))\n",
      "st.write(config('PG_INV_PASSWORD'))\n",
      "st.write(config('PG_DOWNTIME_DB'))\n",
      "st.write(config('PG_DOWNTIME_HOST'))\n",
      "st.write(config('PG_DOWNTIME_USER_NAME'))\n",
      "st.write(config('PG_DOWNTIME_PASSWORD'))\n",
      "st.write(config('RPT_EMAIL_SENDER'))\n",
      "st.write(config('RPT_EMIL_PWD'))\n",
      "st.write(config('RPT_SMTP'))\n",
      "st.write(config('RPT_PORT'))\n",
      "st.write(config('REWORK_LOG_TABLE'))\n",
      "st.write(config('ORA_MES_USER_NAME'))\n",
      "st.write(config('ORA_MES_RPT_USER_NAME'))\n",
      "st.write(config('ORA_MES_PASSWORD'))\n",
      "st.write(config('ORA_MES_HOST'))\n",
      "st.write(config('ORA_MES_PORT'))\n",
      "st.write(config('ORA_MES_SERVICE_NAME'))\n",
      "st.write(config('TNS_MES_1'))\n",
      "st.write(config('TNS_MES_2'))\n",
      "st.write(config('ORA_OWMS_USER_NAME'))\n",
      "st.write(config('ORA_OWMS_PASSWORD'))\n",
      "st.write(config('ORA_OWMS_HOST'))\n",
      "st.write(config('ORA_OWMS_PORT'))\n",
      "st.write(config('ORA_OWMS_SERVICE_NAME'))\n",
      "st.write(config('RPT_EMAIL_SENDER'))\n",
      "st.write(config('RPT_EMAIL_PWD'))\n",
      "st.write(config('RPT_SMTP'))\n",
      "st.write(config('RPT_PORT'))\n",
      "st.write(config('ESD_HOST'))\n",
      "st.write(config('ESD_USERID'))\n",
      "st.write(config('ESD_PASSWD'))\n",
      "st.write(config('ESD_DATABASE'))\n",
      "st.write(config('ESD_ODBC_DRV'))\n"
     ]
    }
   ],
   "source": [
    "for env_var in env_lst:\n",
    "    print(f\"st.write(config('{env_var.split('=')[0]}'))\")"
   ]
  },
  {
   "cell_type": "code",
   "execution_count": null,
   "id": "2a2e9d6e",
   "metadata": {},
   "outputs": [],
   "source": []
  }
 ],
 "metadata": {
  "kernelspec": {
   "display_name": "tf210_gpu",
   "language": "python",
   "name": "tf210_gpu"
  },
  "language_info": {
   "codemirror_mode": {
    "name": "ipython",
    "version": 3
   },
   "file_extension": ".py",
   "mimetype": "text/x-python",
   "name": "python",
   "nbconvert_exporter": "python",
   "pygments_lexer": "ipython3",
   "version": "3.9.19"
  }
 },
 "nbformat": 4,
 "nbformat_minor": 5
}
